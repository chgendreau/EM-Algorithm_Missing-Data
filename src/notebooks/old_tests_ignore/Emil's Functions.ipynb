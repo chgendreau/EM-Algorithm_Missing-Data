{
 "cells": [
  {
   "cell_type": "code",
   "execution_count": 23,
   "id": "82691538",
   "metadata": {},
   "outputs": [
    {
     "name": "stdout",
     "output_type": "stream",
     "text": [
      "483.9999999999998\n",
      "[[29. -8. -2.]\n",
      " [-8.  6. -4.]\n",
      " [-2. -4. 10.]] \n",
      " [[ 3.  1.  0.]\n",
      " [-1. -2.  0.]\n",
      " [-1. -1.  1.]\n",
      " [ 1.  3.  3.]\n",
      " [-1.  0. -5.]\n",
      " [-4.  0.  1.]\n",
      " [ 1.  2.  4.]\n",
      " [-1.  0.  2.]\n",
      " [ 3.  2. -3.]\n",
      " [-2.  3.  2.]]\n"
     ]
    }
   ],
   "source": [
    "import numpy as np\n",
    "\n",
    "#creating a positive definite matrix is not so easy, I think!\n",
    "toy_Sigma=np.array([[-5,2,0],[2,1,-1],[0,-1,3]],dtype=float)\n",
    "toy_Sigma=toy_Sigma.T.dot(toy_Sigma)\n",
    "print(np.linalg.det(toy_Sigma))\n",
    "toy_mu=np.array([-2,2,3])\n",
    "toy_missing_indices=np.array([0,2])\n",
    "toy_X=np.random.randint(-5,5,30).reshape(10,3).astype(np.float32)\n",
    "print(toy_Sigma,\"\\n\",toy_X)"
   ]
  },
  {
   "cell_type": "code",
   "execution_count": 2,
   "id": "748b2489",
   "metadata": {},
   "outputs": [
    {
     "name": "stdout",
     "output_type": "stream",
     "text": [
      "[[ 1 -2  3]\n",
      " [-4  5 -6]\n",
      " [-7  8 11]]\n",
      "[[ 1. -2.  3.]\n",
      " [-4.  5. -6.]\n",
      " [-7.  8. 11.]]\n",
      "-6.0\n"
     ]
    }
   ],
   "source": [
    "A=np.array([[1,2,5],[4,5,6],[7,8,9]])\n",
    "B=np.array([[1,-2,3],[-4,5,-6],[-7,8,11]])\n",
    "print(B)\n",
    "print(A.dot(np.linalg.solve(A,B)))\n",
    "print(np.linalg.det(A))"
   ]
  },
  {
   "cell_type": "code",
   "execution_count": 24,
   "id": "initial_id",
   "metadata": {
    "is_executing": true
   },
   "outputs": [],
   "source": [
    "def calculate_C(Sigma,missing_indices,verbose=False):\n",
    "    p=Sigma.shape[0]\n",
    "    m=missing_indices.shape[0]\n",
    "    if verbose:\n",
    "        print(\"Original unconditional covariance : \\n\",Sigma)\n",
    "    observed_indices=np.arange(p)[~np.isin(np.arange(p),missing_indices)]\n",
    "    appended_indices=np.append(observed_indices, missing_indices)\n",
    "    Sigma=(Sigma[appended_indices,:])[:,appended_indices]\n",
    "    \n",
    "    if verbose:\n",
    "        print(\"Unconditional covariance rearranged so that missing indices are at the bottom : \\n\",Sigma)\n",
    "    Sigma11=Sigma[0:(p-m),0:(p-m)]\n",
    "    Sigma21=Sigma[(p-m):p,0:(p-m)]\n",
    "    Sigma22=Sigma[(p-m):p,(p-m):p]\n",
    "    Sigma22_conditional=Sigma22-Sigma21.dot(np.linalg.solve(Sigma11,Sigma21.T))\n",
    "    \n",
    "    reverse_permutation=np.argsort(appended_indices)\n",
    "    result=np.full((p,p),0)\n",
    "    result[(p-m):p,(p-m):p]=Sigma22_conditional\n",
    "    if verbose:\n",
    "        print(\"The conditional covariance when ordered is : \\n\",result)\n",
    "    result=(result[reverse_permutation,:])[:,reverse_permutation]\n",
    "    if verbose:\n",
    "        print(\"After permuting back we get : \\n\", result)\n",
    "    return(result)\n",
    "    #print(Sigma,appended_indices,observed_indices,missing_indices,Sigma22,Sigma12,Sigma11)"
   ]
  },
  {
   "cell_type": "code",
   "execution_count": 25,
   "id": "1a279857",
   "metadata": {},
   "outputs": [
    {
     "name": "stdout",
     "output_type": "stream",
     "text": [
      "Original unconditional covariance : \n",
      " [[29. -8. -2.]\n",
      " [-8.  6. -4.]\n",
      " [-2. -4. 10.]]\n",
      "Unconditional covariance rearranged so that missing indices are at the bottom : \n",
      " [[ 6. -8. -4.]\n",
      " [-8. 29. -2.]\n",
      " [-4. -2. 10.]]\n",
      "The conditional covariance when ordered is : \n",
      " [[ 0  0  0]\n",
      " [ 0 18 -7]\n",
      " [ 0 -7  7]]\n",
      "After permuting back we get : \n",
      " [[18  0 -7]\n",
      " [ 0  0  0]\n",
      " [-7  0  7]]\n"
     ]
    },
    {
     "data": {
      "text/plain": [
       "array([[18,  0, -7],\n",
       "       [ 0,  0,  0],\n",
       "       [-7,  0,  7]])"
      ]
     },
     "execution_count": 25,
     "metadata": {},
     "output_type": "execute_result"
    }
   ],
   "source": [
    "#print(~np.isin(np.arange(3),toy_missing_indices))\n",
    "calculate_C(toy_Sigma,toy_missing_indices,verbose=True)\n"
   ]
  },
  {
   "cell_type": "code",
   "execution_count": 29,
   "id": "9a7c46c5",
   "metadata": {},
   "outputs": [],
   "source": [
    "def lcomp(mu,Sigma, X):\n",
    "    N=X.shape[0]\n",
    "    p=X.shape[1]\n",
    "    result=-N/2*np.log(np.linalg.det(Sigma))\n",
    "    X_muT=X-mu.T\n",
    "    for n in range(N):\n",
    "        result=result+(X[n,:]-mu.T).dot(np.linalg.solve(Sigma, X[n,:].T-mu)) #is repetitively summing here bad?\n",
    "    return result"
   ]
  },
  {
   "cell_type": "code",
   "execution_count": 30,
   "id": "2bac1eeb",
   "metadata": {},
   "outputs": [
    {
     "data": {
      "text/plain": [
       "39.13503001187138"
      ]
     },
     "execution_count": 30,
     "metadata": {},
     "output_type": "execute_result"
    }
   ],
   "source": [
    "lcomp(toy_mu,toy_Sigma,toy_X)"
   ]
  },
  {
   "cell_type": "code",
   "execution_count": 35,
   "id": "5e987d76",
   "metadata": {},
   "outputs": [],
   "source": [
    "def calculate_xhat(xn,mu,Sigma,missing_indices):\n",
    "    #m=missing_indices.shape[0]\n",
    "    p=Sigma.shape[0]\n",
    "    \n",
    "    xhatn=xn.copy()\n",
    "    observed_indices=np.arange(p)[~np.isin(np.arange(p),missing_indices)]\n",
    "    #appended_indices=np.append(observed_indices, missing_indices)\n",
    "    \n",
    "    Sigma22=Sigma[missing_indices,:][:,missing_indices]\n",
    "    Sigma11=Sigma[observed_indices,:][:,observed_indices]\n",
    "    Sigma21=Sigma[missing_indices,:][:,observed_indices]\n",
    "    \n",
    "    mu1=mu[observed_indices]\n",
    "    mu2=mu[missing_indices]\n",
    "    \n",
    "    mu2_conditional=mu2-Sigma21.dot(np.linalg.solve(Sigma11,mu1))\n",
    "    #print(xhatn)\n",
    "    #print(mu2_conditional,xhatn[missing_indices,],mu2_conditional.shape,xhatn[missing_indices,].shape)\n",
    "    xhatn[missing_indices,] = mu2_conditional\n",
    "    #this doesnt seem to work \n",
    "    #reason: Array is passed as a view, potential danger!\n",
    "    #hmm still doesnt work wtf\n",
    "    #Its because a numpy array of ints rounds floats that are added to it wtfffff, fixed now\n",
    "    \n",
    "    #print(xhatn.base)\n",
    "    #print(mu2_conditional,xhatn[missing_indices])\n",
    "    \n",
    "    return xhatn"
   ]
  },
  {
   "cell_type": "code",
   "execution_count": 36,
   "id": "4ba21e2e",
   "metadata": {},
   "outputs": [
    {
     "name": "stdout",
     "output_type": "stream",
     "text": [
      "[0.6666667 1.        4.3333335]\n",
      "[3. 1. 0.]\n"
     ]
    }
   ],
   "source": [
    "print(calculate_xhat(toy_X[0,:],toy_mu,toy_Sigma,toy_missing_indices))\n",
    "print(toy_X[0,:])"
   ]
  },
  {
   "cell_type": "code",
   "execution_count": 19,
   "id": "3c5d88b3",
   "metadata": {},
   "outputs": [
    {
     "name": "stdout",
     "output_type": "stream",
     "text": [
      "[-1  2  5]\n"
     ]
    }
   ],
   "source": [
    "test=np.array([1,2,3])\n",
    "thing=test\n",
    "thing[np.array([0,2])]=np.array([-1.2,5.7])\n",
    "print(thing)"
   ]
  }
 ],
 "metadata": {
  "kernelspec": {
   "display_name": "Python 3 (ipykernel)",
   "language": "python",
   "name": "python3"
  },
  "language_info": {
   "codemirror_mode": {
    "name": "ipython",
    "version": 3
   },
   "file_extension": ".py",
   "mimetype": "text/x-python",
   "name": "python",
   "nbconvert_exporter": "python",
   "pygments_lexer": "ipython3",
   "version": "3.9.12"
  }
 },
 "nbformat": 4,
 "nbformat_minor": 5
}
