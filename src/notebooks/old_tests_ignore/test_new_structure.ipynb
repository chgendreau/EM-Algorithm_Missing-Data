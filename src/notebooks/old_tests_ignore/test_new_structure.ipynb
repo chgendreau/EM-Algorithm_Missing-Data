{
 "cells": [
  {
   "cell_type": "markdown",
   "metadata": {},
   "source": [
    "This notebook was used to test the new structure of our code."
   ]
  },
  {
   "cell_type": "code",
   "execution_count": 1,
   "metadata": {},
   "outputs": [],
   "source": [
    "from data_generation import *\n",
    "from imputation import *\n",
    "from visualization import *\n",
    "\n",
    "%reload_ext autoreload\n",
    "%autoreload 2"
   ]
  },
  {
   "cell_type": "code",
   "execution_count": 3,
   "metadata": {},
   "outputs": [
    {
     "name": "stdout",
     "output_type": "stream",
     "text": [
      "Mechanism:  MCAR\n"
     ]
    },
    {
     "name": "stderr",
     "output_type": "stream",
     "text": [
      "C:\\Users\\charl\\AppData\\Local\\Packages\\PythonSoftwareFoundation.Python.3.10_qbz5n2kfra8p0\\LocalCache\\local-packages\\Python310\\site-packages\\sklearn\\impute\\_iterative.py:785: ConvergenceWarning: [IterativeImputer] Early stopping criterion not reached.\n",
      "  warnings.warn(\n"
     ]
    },
    {
     "name": "stdout",
     "output_type": "stream",
     "text": [
      "Mechanism:  MAR\n",
      "Mechanism:  MNAR\n"
     ]
    },
    {
     "name": "stderr",
     "output_type": "stream",
     "text": [
      "C:\\Users\\charl\\AppData\\Local\\Packages\\PythonSoftwareFoundation.Python.3.10_qbz5n2kfra8p0\\LocalCache\\local-packages\\Python310\\site-packages\\sklearn\\impute\\_iterative.py:785: ConvergenceWarning: [IterativeImputer] Early stopping criterion not reached.\n",
      "  warnings.warn(\n"
     ]
    }
   ],
   "source": [
    "data, mean, cov = generate_synthetic_data(n_samples = 100, n_features = 3)\n",
    "#print(data)\n",
    "#plot_combined(data, em_iterations =2)\n",
    "mse_values_dict, mse_means_dict, mse_covs_dict = compute_all_mses(data, real_mean = mean, real_cov = cov, em_iterations =2, verbose =True)\n",
    "#print('mean' , mean)\n",
    "#print('cov' , cov)\n",
    "#data = generate_incomplete_data(data, miss_percentage = 0.3, mecha = 'MCAR', p_obs = 0.2, opt = 'logistic', q = 0.5)\n"
   ]
  },
  {
   "cell_type": "code",
   "execution_count": 218,
   "metadata": {},
   "outputs": [],
   "source": [
    "from sklearn.metrics import mean_squared_error"
   ]
  },
  {
   "cell_type": "code",
   "execution_count": 225,
   "metadata": {},
   "outputs": [
    {
     "ename": "TypeError",
     "evalue": "mean_squared_error() missing 1 required positional argument: 'y_pred'",
     "output_type": "error",
     "traceback": [
      "\u001b[1;31m---------------------------------------------------------------------------\u001b[0m",
      "\u001b[1;31mTypeError\u001b[0m                                 Traceback (most recent call last)",
      "Cell \u001b[1;32mIn[225], line 5\u001b[0m\n\u001b[0;32m      1\u001b[0m \u001b[38;5;28;01mfrom\u001b[39;00m \u001b[38;5;21;01mnumpy\u001b[39;00m \u001b[38;5;28;01mimport\u001b[39;00m real\n\u001b[0;32m      4\u001b[0m real_mean \u001b[38;5;241m=\u001b[39m np\u001b[38;5;241m.\u001b[39mmean(data, axis \u001b[38;5;241m=\u001b[39m \u001b[38;5;241m0\u001b[39m)\n\u001b[1;32m----> 5\u001b[0m \u001b[38;5;28mprint\u001b[39m(\u001b[38;5;124m'\u001b[39m\u001b[38;5;124mreal_mean squared norm\u001b[39m\u001b[38;5;124m'\u001b[39m , \u001b[43mmean_squared_error\u001b[49m\u001b[43m(\u001b[49m\u001b[43mreal_mean\u001b[49m\u001b[43m)\u001b[49m)\n\u001b[0;32m      8\u001b[0m est_mean \u001b[38;5;241m=\u001b[39m real_mean \u001b[38;5;241m+\u001b[39m np\u001b[38;5;241m.\u001b[39mrandom\u001b[38;5;241m.\u001b[39mnormal(\u001b[38;5;241m0\u001b[39m, \u001b[38;5;241m0.1\u001b[39m, size \u001b[38;5;241m=\u001b[39m real_mean\u001b[38;5;241m.\u001b[39mshape)\n\u001b[0;32m     10\u001b[0m \u001b[38;5;28mprint\u001b[39m(\u001b[38;5;124m'\u001b[39m\u001b[38;5;124mmse\u001b[39m\u001b[38;5;124m'\u001b[39m , mean_squared_error(real_mean, est_mean))\n",
      "\u001b[1;31mTypeError\u001b[0m: mean_squared_error() missing 1 required positional argument: 'y_pred'"
     ]
    }
   ],
   "source": [
    "from numpy import real\n",
    "\n",
    "imputed_data, est_mean, est_cov = impute_data(X_incomp, method)\n",
    "#MSE of data\n",
    "mse_data = mean_squared_error(complete_data, imputed_data)/mean_squared_error(complete_data, np.zeros(complete_data.shape))"
   ]
  },
  {
   "cell_type": "code",
   "execution_count": 85,
   "metadata": {},
   "outputs": [
    {
     "name": "stdout",
     "output_type": "stream",
     "text": [
      "Normality tests for X: Shapiro p-value = 1.5527951942322328e-22, Normaltest p-value = [0.30429186 0.12105466 0.18693537 0.07780418 0.6260361 ]\n",
      "number of iterations: 100\n"
     ]
    },
    {
     "data": {
      "text/plain": [
       "array([[ 30.35737139,  -4.34161328,   2.39892784,   3.28681445,\n",
       "        -18.42631803],\n",
       "       [ 16.66425363,  -7.7519308 ,  -0.90154584,  15.33431604,\n",
       "        -36.33036627],\n",
       "       [ 40.99016844,  -2.15149577, -11.41020824,  10.29194913,\n",
       "        -36.04831607],\n",
       "       ...,\n",
       "       [ 18.3735017 ,   4.63806438,   0.71210732,  -3.53697235,\n",
       "        -20.40247187],\n",
       "       [ 43.14103259, -39.07400652,   5.04390039,  -3.03781634,\n",
       "        -44.61179672],\n",
       "       [ 16.20019669,  53.23144747, -15.38523223,  21.42788282,\n",
       "        -35.82187648]])"
      ]
     },
     "execution_count": 85,
     "metadata": {},
     "output_type": "execute_result"
    }
   ],
   "source": [
    "_,mu, cov = generate_synthetic_data(n_samples = 10, n_features = 5)\n",
    "generate_student_t(df =15, mean = mu, cov = cov, n_samples =500, quasi_normal=True)"
   ]
  }
 ],
 "metadata": {
  "kernelspec": {
   "display_name": "Python 3",
   "language": "python",
   "name": "python3"
  },
  "language_info": {
   "codemirror_mode": {
    "name": "ipython",
    "version": 3
   },
   "file_extension": ".py",
   "mimetype": "text/x-python",
   "name": "python",
   "nbconvert_exporter": "python",
   "pygments_lexer": "ipython3",
   "version": "3.10.11"
  }
 },
 "nbformat": 4,
 "nbformat_minor": 2
}
