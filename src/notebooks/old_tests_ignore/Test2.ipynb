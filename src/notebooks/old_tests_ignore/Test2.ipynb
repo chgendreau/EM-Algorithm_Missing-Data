{
 "cells": [
  {
   "cell_type": "code",
   "execution_count": 18,
   "metadata": {},
   "outputs": [],
   "source": [
    "import numpy as np\n",
    "import matplotlib.pyplot as plt\n",
    "from scipy.stats import multivariate_normal\n",
    "from sklearn.metrics import mean_squared_error\n",
    "import torch\n",
    "from produce_NA import *\n",
    "import numpy.linalg as LA\n"
   ]
  },
  {
   "cell_type": "code",
   "execution_count": 2,
   "metadata": {},
   "outputs": [],
   "source": [
    "def nan_covariance(data): #not sure how to initialise without a function like this, np.cov() does not work well as there is alot of NaN in the matrix\n",
    "    n, m = data.shape # this function basicaly computes covariance ignoring the mssiing data\n",
    "    mean_cols = np.nanmean(data, axis=0)\n",
    "    cov_matrix = np.empty((m, m))\n",
    "\n",
    "    for i in range(m):\n",
    "        for j in range(m):\n",
    "            valid_data = ~np.isnan(data[:, i]) & ~np.isnan(data[:, j])\n",
    "            centered_i = data[valid_data, i] - mean_cols[i]\n",
    "            centered_j = data[valid_data, j] - mean_cols[j]\n",
    "            cov_matrix[i, j] = np.mean(centered_i * centered_j)\n",
    "\n",
    "    return cov_matrix"
   ]
  },
  {
   "cell_type": "code",
   "execution_count": 3,
   "metadata": {},
   "outputs": [],
   "source": [
    "def log_likelihood1(X, mu, Sigma):\n",
    "    N=X.shape[0]\n",
    "    p=X.shape[1]\n",
    "    result=-N/2*np.log(np.linalg.det(Sigma))\n",
    "    X_muT=X-mu.T\n",
    "    for n in range(N):\n",
    "        result=result-0.5*(X[n,:]-mu.T).dot(np.linalg.solve(Sigma, X[n,:].T-mu)) #is repetitively summing here bad?\n",
    "    return result"
   ]
  },
  {
   "cell_type": "code",
   "execution_count": 4,
   "metadata": {},
   "outputs": [],
   "source": [
    "def calculate_xhat(xn,mu,Sigma,missing_indices):\n",
    "    #m=missing_indices.shape[0]\n",
    "    p=Sigma.shape[0]\n",
    "    \n",
    "    xhatn=xn.copy()\n",
    "    observed_indices=np.arange(p)[~np.isin(np.arange(p),missing_indices)]\n",
    "    #appended_indices=np.append(observed_indices, missing_indices)\n",
    "    \n",
    "    Sigma22=Sigma[missing_indices,:][:,missing_indices]\n",
    "    Sigma11=Sigma[observed_indices,:][:,observed_indices]\n",
    "    Sigma21=Sigma[missing_indices,:][:,observed_indices]\n",
    "    \n",
    "    mu1=mu[observed_indices]\n",
    "    mu2=mu[missing_indices]\n",
    "    xhatn_1=xhatn[observed_indices]\n",
    "    mu2_conditional=mu2+Sigma21.dot(np.linalg.solve(Sigma11,xhatn_1-mu1))\n",
    "    #print(xhatn)\n",
    "    #print(mu2_conditional,xhatn[missing_indices,],mu2_conditional.shape,xhatn[missing_indices,].shape)\n",
    "    xhatn[missing_indices,] = mu2_conditional\n",
    "    #this doesnt seem to work \n",
    "    #reason: Array is passed as a view, potential danger!\n",
    "    #hmm still doesnt work wtf\n",
    "    #Its because a numpy array of ints rounds floats that are added to it wtfffff, fixed now\n",
    "    \n",
    "    #print(xhatn.base)\n",
    "    #print(mu2_conditional,xhatn[missing_indices])\n",
    "    \n",
    "    return xhatn"
   ]
  },
  {
   "cell_type": "code",
   "execution_count": 5,
   "metadata": {},
   "outputs": [],
   "source": [
    "def calculate_C(Sigma,missing_indices,verbose=False):\n",
    "    p=Sigma.shape[0]\n",
    "    m=missing_indices.shape[0]\n",
    "    if verbose:\n",
    "        print(\"Original unconditional covariance : \\n\",Sigma)\n",
    "    observed_indices=np.arange(p)[~np.isin(np.arange(p),missing_indices)]\n",
    "    appended_indices=np.append(observed_indices, missing_indices)\n",
    "    Sigma=(Sigma[appended_indices,:])[:,appended_indices]\n",
    "    \n",
    "    if verbose:\n",
    "        print(\"Unconditional covariance rearranged so that missing indices are at the bottom : \\n\",Sigma)\n",
    "    Sigma11=Sigma[0:(p-m),0:(p-m)]\n",
    "    Sigma21=Sigma[(p-m):p,0:(p-m)]\n",
    "    Sigma22=Sigma[(p-m):p,(p-m):p]\n",
    "    Sigma22_conditional=Sigma22-Sigma21.dot(np.linalg.solve(Sigma11,Sigma21.T))\n",
    "    \n",
    "    reverse_permutation=np.argsort(appended_indices)\n",
    "    result=np.full((p,p),0)\n",
    "    result[(p-m):p,(p-m):p]=Sigma22_conditional\n",
    "    if verbose:\n",
    "        print(\"The conditional covariance when ordered is : \\n\",result)\n",
    "    result=(result[reverse_permutation,:])[:,reverse_permutation]\n",
    "    if verbose:\n",
    "        print(\"After permuting back we get : \\n\", result)\n",
    "    return(result)"
   ]
  },
  {
   "cell_type": "code",
   "execution_count": 6,
   "metadata": {},
   "outputs": [],
   "source": [
    "def em_algorithm1(data, max_iter=100, tol=1e-6):\n",
    "    n, p = data.shape\n",
    "\n",
    "    # Initialize mean and covariance estimates\n",
    "    means = np.nanmean(data, axis=0)\n",
    "    covariance = nan_covariance(data)\n",
    "\n",
    "    # Create an array to hold imputed data\n",
    "    imputed_data = np.where(np.isnan(data), np.nanmean(data, axis=0), data)\n",
    "    #imputed_data = np.where(np.isnan(data), None, data)\n",
    "    \n",
    "    old_log_likelihood = log_likelihood1(imputed_data, means, covariance)\n",
    "    #print(old_log_likelihood)\n",
    "\n",
    "    for iteration in range(max_iter):\n",
    "        # E-step: Estimate missing values\n",
    "        for i in range(n):\n",
    "            missing = np.where(np.isnan(data[i]))[0]\n",
    "            if np.isnan(data[i]).any():\n",
    "                imputed_data[i,] = calculate_xhat(imputed_data[i,],means,covariance,missing) #this function works with Nans in the missing entries too, why do we impute?\n",
    "\n",
    "        # M-step: Update mean and covariance estimates\n",
    "        means = np.mean(imputed_data, axis=0)\n",
    "        new_covariance = np.full((p,p),0) \n",
    "\n",
    "        # Add the conditional covariance for missing data\n",
    "        for i in range(n):\n",
    "            missing = np.where(np.isnan(data[i]))[0]\n",
    "            #if missing.any(): #with this condition, are you not skipping xhat-mu *(xhat-mu).T when there is no missing data? I think so...\n",
    "            new_covariance = new_covariance + calculate_C(covariance,missing,verbose=False) + (imputed_data[i,]-means).reshape(-1, 1) @ np.transpose((imputed_data[i,]-means).reshape(-1, 1))\n",
    "            \n",
    "        covariance = new_covariance/n \n",
    "        #print(covariance)\n",
    "        # Convergence test based on log likelihood\n",
    "        new_log_likelihood = log_likelihood1(imputed_data, means, covariance)\n",
    "        #print(new_log_likelihood)\n",
    "        difference=new_log_likelihood - old_log_likelihood\n",
    "        #print(\"The new log likelihood is :\", new_log_likelihood, \"  Difference of : \",difference)\n",
    "        \n",
    "        if np.abs(difference) < tol: #absolute value not necessary and potentially undesirable, as in theory should always be positive\n",
    "            #print(\"Convergence achieved! \\n\")\n",
    "            break\n",
    "        old_log_likelihood = new_log_likelihood\n",
    "\n",
    "    return imputed_data,means,covariance"
   ]
  },
  {
   "cell_type": "code",
   "execution_count": 7,
   "metadata": {},
   "outputs": [],
   "source": [
    "# Function to generate synthetic data\n",
    "def generate_synthetic_data(n_samples=1000, n_features=5):\n",
    "    mean = np.random.rand(n_features) * 10\n",
    "    cov = np.random.rand(n_features, n_features)\n",
    "    cov = np.dot(cov, cov.transpose())  # Ensure the covariance matrix is positive semi-definite\n",
    "    data = multivariate_normal.rvs(mean=mean, cov=cov, size=n_samples)\n",
    "    return data"
   ]
  },
  {
   "cell_type": "code",
   "execution_count": 8,
   "metadata": {},
   "outputs": [],
   "source": [
    "# Generate synthetic data\n",
    "data = generate_synthetic_data(n_samples=1000, n_features=5)\n",
    "missing_data_info = produce_NA(data, 0.2 , mecha=\"MCAR\")\n",
    "X_incomp = missing_data_info['X_incomp'].numpy()\n",
    "\n"
   ]
  },
  {
   "cell_type": "code",
   "execution_count": 9,
   "metadata": {},
   "outputs": [],
   "source": [
    "imputed_data, _, _ = em_algorithm1(X_incomp)"
   ]
  },
  {
   "cell_type": "code",
   "execution_count": 11,
   "metadata": {},
   "outputs": [
    {
     "name": "stdout",
     "output_type": "stream",
     "text": [
      "0.05393243097289543\n"
     ]
    }
   ],
   "source": [
    "print(mean_squared_error(data, imputed_data))"
   ]
  },
  {
   "cell_type": "code",
   "execution_count": 23,
   "metadata": {},
   "outputs": [
    {
     "name": "stderr",
     "output_type": "stream",
     "text": [
      "C:\\Users\\charl\\AppData\\Local\\Temp\\ipykernel_27720\\893035607.py:4: RuntimeWarning: invalid value encountered in log\n",
      "  result=-N/2*np.log(np.linalg.det(Sigma))\n"
     ]
    },
    {
     "data": {
      "image/png": "[encoded data removed]",
      "text/plain": [
       "<Figure size 1000x600 with 1 Axes>"
      ]
     },
     "metadata": {},
     "output_type": "display_data"
    }
   ],
   "source": [
    "# Function to generate synthetic data\n",
    "def generate_synthetic_data(n_samples=1000, n_features=5):\n",
    "    mean = np.random.randn(n_features) * 10\n",
    "    cov = np.random.randn(n_features, n_features)\n",
    "    cov = np.dot(cov, cov.transpose())  # Ensure the covariance matrix is positive semi-definite\n",
    "    data = multivariate_normal.rvs(mean=mean, cov=cov, size=n_samples)\n",
    "    return data\n",
    "\n",
    "# Generate synthetic data\n",
    "data = generate_synthetic_data(n_samples=1000, n_features=5)\n",
    "\n",
    "# Range of missing data percentages and mechanisms\n",
    "missing_data_percentages = np.arange(40, 65, 5)\n",
    "missing_mechanisms = [\"MCAR\"]#, \"MAR\", \"MNAR\", \"MNARsmask\"]\n",
    "mse_values = {mechanism: [] for mechanism in missing_mechanisms}\n",
    "\n",
    "# Loop over different missing data mechanisms and percentages\n",
    "for mechanism in missing_mechanisms:\n",
    "    for p_miss in missing_data_percentages:\n",
    "        # Simulate missing data\n",
    "        missing_data_info = produce_NA(data, p_miss / 100.0, mecha=mechanism)\n",
    "        X_incomp = missing_data_info['X_incomp']\n",
    "\n",
    "        # Convert PyTorch tensor to NumPy array if necessary\n",
    "        if isinstance(X_incomp, torch.Tensor):\n",
    "            X_incomp = X_incomp.numpy()\n",
    "\n",
    "        # Apply EM algorithm\n",
    "        imputed_data, _, _ = em_algorithm1(X_incomp)\n",
    "\n",
    "        # Calculate MSE\n",
    "        mse = mean_squared_error(data, imputed_data)\n",
    "        mse_values[mechanism].append(mse)\n",
    "\n",
    "# Plotting the results\n",
    "plt.figure(figsize=(10, 6))\n",
    "for mechanism in missing_mechanisms:\n",
    "    plt.plot(missing_data_percentages, mse_values[mechanism], marker='o', label=mechanism)\n",
    "\n",
    "plt.xlabel('Percentage of Missing Data (%)')\n",
    "plt.ylabel('Mean Squared Error (MSE)')\n",
    "plt.title('MSE of Imputed Data vs. Percentage of Missing Data for Different Mechanisms')\n",
    "plt.legend()\n",
    "plt.grid(True)\n",
    "plt.show()\n"
   ]
  },
  {
   "cell_type": "code",
   "execution_count": 15,
   "metadata": {},
   "outputs": [
    {
     "data": {
      "text/plain": [
       "array([40, 45, 50, 55, 60])"
      ]
     },
     "execution_count": 15,
     "metadata": {},
     "output_type": "execute_result"
    }
   ],
   "source": [
    "np.arange(40, 65, 5)"
   ]
  },
  {
   "cell_type": "markdown",
   "metadata": {},
   "source": [
    "Estimateurs plus robusres de Sigma\n",
    "Perturbation à \n",
    "\n",
    "cacthc and try\n",
    "\n",
    "differentes covariance structures\n",
    "différentes dépendantes dans la matrice de covariance\n",
    "sparsité dans matrice de covariance\n",
    "\n",
    "Simuler des spacial data \n",
    "Matem covariance function"
   ]
  },
  {
   "cell_type": "code",
   "execution_count": null,
   "metadata": {},
   "outputs": [],
   "source": []
  }
 ],
 "metadata": {
  "kernelspec": {
   "display_name": "Python 3",
   "language": "python",
   "name": "python3"
  },
  "language_info": {
   "codemirror_mode": {
    "name": "ipython",
    "version": 3
   },
   "file_extension": ".py",
   "mimetype": "text/x-python",
   "name": "python",
   "nbconvert_exporter": "python",
   "pygments_lexer": "ipython3",
   "version": "3.10.11"
  }
 },
 "nbformat": 4,
 "nbformat_minor": 2
}
